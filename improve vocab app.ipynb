{
 "cells": [
  {
   "cell_type": "code",
   "execution_count": 15,
   "id": "af3bde98",
   "metadata": {},
   "outputs": [],
   "source": [
    "#imported pandas to read the dataset\n",
    "import pandas as pd"
   ]
  },
  {
   "cell_type": "markdown",
   "id": "dd11ab26",
   "metadata": {},
   "source": [
    "vocabulary dataset source was https://www.admitkard.com/blog/2019/12/26/50-new-english-words-with-meaning-and-sentences/\n",
    "\n",
    "word and meanings were converted into a csv file"
   ]
  },
  {
   "cell_type": "code",
   "execution_count": 16,
   "id": "4a14ce5e",
   "metadata": {},
   "outputs": [],
   "source": [
    "vocabulary=pd.read_csv('vocab.csv')"
   ]
  },
  {
   "cell_type": "code",
   "execution_count": 18,
   "id": "40ee75a5",
   "metadata": {},
   "outputs": [
    {
     "data": {
      "text/html": [
       "<div>\n",
       "<style scoped>\n",
       "    .dataframe tbody tr th:only-of-type {\n",
       "        vertical-align: middle;\n",
       "    }\n",
       "\n",
       "    .dataframe tbody tr th {\n",
       "        vertical-align: top;\n",
       "    }\n",
       "\n",
       "    .dataframe thead th {\n",
       "        text-align: right;\n",
       "    }\n",
       "</style>\n",
       "<table border=\"1\" class=\"dataframe\">\n",
       "  <thead>\n",
       "    <tr style=\"text-align: right;\">\n",
       "      <th></th>\n",
       "      <th>Word</th>\n",
       "      <th>Meaning</th>\n",
       "    </tr>\n",
       "  </thead>\n",
       "  <tbody>\n",
       "    <tr>\n",
       "      <th>0</th>\n",
       "      <td>Abnegation</td>\n",
       "      <td>Renouncing a belief or doctrine</td>\n",
       "    </tr>\n",
       "    <tr>\n",
       "      <th>1</th>\n",
       "      <td>Aggrandize</td>\n",
       "      <td>enhance power wealth or status</td>\n",
       "    </tr>\n",
       "    <tr>\n",
       "      <th>2</th>\n",
       "      <td>Alacrity</td>\n",
       "      <td>eagerness</td>\n",
       "    </tr>\n",
       "    <tr>\n",
       "      <th>3</th>\n",
       "      <td>Anachronistic</td>\n",
       "      <td>misplaced chronologically</td>\n",
       "    </tr>\n",
       "    <tr>\n",
       "      <th>4</th>\n",
       "      <td>Archetypal</td>\n",
       "      <td>quintessential of a certain kind</td>\n",
       "    </tr>\n",
       "    <tr>\n",
       "      <th>...</th>\n",
       "      <td>...</td>\n",
       "      <td>...</td>\n",
       "    </tr>\n",
       "    <tr>\n",
       "      <th>145</th>\n",
       "      <td>Death</td>\n",
       "      <td>the end of life.</td>\n",
       "    </tr>\n",
       "    <tr>\n",
       "      <th>146</th>\n",
       "      <td>Decision</td>\n",
       "      <td>a choice that you make about something after ...</td>\n",
       "    </tr>\n",
       "    <tr>\n",
       "      <th>147</th>\n",
       "      <td>Detail</td>\n",
       "      <td>a single piece of information or fact about s...</td>\n",
       "    </tr>\n",
       "    <tr>\n",
       "      <th>148</th>\n",
       "      <td>Development</td>\n",
       "      <td>the process in which someone or something gro...</td>\n",
       "    </tr>\n",
       "    <tr>\n",
       "      <th>149</th>\n",
       "      <td>Direction</td>\n",
       "      <td>the position towards which someone or somethi...</td>\n",
       "    </tr>\n",
       "  </tbody>\n",
       "</table>\n",
       "<p>150 rows × 2 columns</p>\n",
       "</div>"
      ],
      "text/plain": [
       "              Word                                             Meaning\n",
       "0       Abnegation                     Renouncing a belief or doctrine\n",
       "1        Aggrandize                     enhance power wealth or status\n",
       "2         Alacrity                                           eagerness\n",
       "3    Anachronistic                           misplaced chronologically\n",
       "4       Archetypal                    quintessential of a certain kind\n",
       "..              ...                                                ...\n",
       "145          Death                                    the end of life.\n",
       "146       Decision    a choice that you make about something after ...\n",
       "147         Detail    a single piece of information or fact about s...\n",
       "148    Development    the process in which someone or something gro...\n",
       "149      Direction    the position towards which someone or somethi...\n",
       "\n",
       "[150 rows x 2 columns]"
      ]
     },
     "execution_count": 18,
     "metadata": {},
     "output_type": "execute_result"
    }
   ],
   "source": [
    "#to show how the dataset looks like\n",
    "vocabulary.head(150)"
   ]
  },
  {
   "cell_type": "code",
   "execution_count": 21,
   "id": "22a0dc88",
   "metadata": {},
   "outputs": [
    {
     "data": {
      "text/html": [
       "<div>\n",
       "<style scoped>\n",
       "    .dataframe tbody tr th:only-of-type {\n",
       "        vertical-align: middle;\n",
       "    }\n",
       "\n",
       "    .dataframe tbody tr th {\n",
       "        vertical-align: top;\n",
       "    }\n",
       "\n",
       "    .dataframe thead th {\n",
       "        text-align: right;\n",
       "    }\n",
       "</style>\n",
       "<table border=\"1\" class=\"dataframe\">\n",
       "  <thead>\n",
       "    <tr style=\"text-align: right;\">\n",
       "      <th></th>\n",
       "      <th>Word</th>\n",
       "      <th>Meaning</th>\n",
       "    </tr>\n",
       "  </thead>\n",
       "  <tbody>\n",
       "    <tr>\n",
       "      <th>0</th>\n",
       "      <td>Abnegation</td>\n",
       "      <td>Renouncing a belief or doctrine</td>\n",
       "    </tr>\n",
       "    <tr>\n",
       "      <th>1</th>\n",
       "      <td>Aggrandize</td>\n",
       "      <td>enhance power wealth or status</td>\n",
       "    </tr>\n",
       "    <tr>\n",
       "      <th>2</th>\n",
       "      <td>Alacrity</td>\n",
       "      <td>eagerness</td>\n",
       "    </tr>\n",
       "    <tr>\n",
       "      <th>3</th>\n",
       "      <td>Anachronistic</td>\n",
       "      <td>misplaced chronologically</td>\n",
       "    </tr>\n",
       "    <tr>\n",
       "      <th>4</th>\n",
       "      <td>Archetypal</td>\n",
       "      <td>quintessential of a certain kind</td>\n",
       "    </tr>\n",
       "    <tr>\n",
       "      <th>...</th>\n",
       "      <td>...</td>\n",
       "      <td>...</td>\n",
       "    </tr>\n",
       "    <tr>\n",
       "      <th>145</th>\n",
       "      <td>Death</td>\n",
       "      <td>the end of life.</td>\n",
       "    </tr>\n",
       "    <tr>\n",
       "      <th>146</th>\n",
       "      <td>Decision</td>\n",
       "      <td>a choice that you make about something after ...</td>\n",
       "    </tr>\n",
       "    <tr>\n",
       "      <th>147</th>\n",
       "      <td>Detail</td>\n",
       "      <td>a single piece of information or fact about s...</td>\n",
       "    </tr>\n",
       "    <tr>\n",
       "      <th>148</th>\n",
       "      <td>Development</td>\n",
       "      <td>the process in which someone or something gro...</td>\n",
       "    </tr>\n",
       "    <tr>\n",
       "      <th>149</th>\n",
       "      <td>Direction</td>\n",
       "      <td>the position towards which someone or somethi...</td>\n",
       "    </tr>\n",
       "  </tbody>\n",
       "</table>\n",
       "<p>150 rows × 2 columns</p>\n",
       "</div>"
      ],
      "text/plain": [
       "              Word                                             Meaning\n",
       "0       Abnegation                     Renouncing a belief or doctrine\n",
       "1        Aggrandize                     enhance power wealth or status\n",
       "2         Alacrity                                           eagerness\n",
       "3    Anachronistic                           misplaced chronologically\n",
       "4       Archetypal                    quintessential of a certain kind\n",
       "..              ...                                                ...\n",
       "145          Death                                    the end of life.\n",
       "146       Decision    a choice that you make about something after ...\n",
       "147         Detail    a single piece of information or fact about s...\n",
       "148    Development    the process in which someone or something gro...\n",
       "149      Direction    the position towards which someone or somethi...\n",
       "\n",
       "[150 rows x 2 columns]"
      ]
     },
     "execution_count": 21,
     "metadata": {},
     "output_type": "execute_result"
    }
   ],
   "source": [
    "vocabulary"
   ]
  },
  {
   "cell_type": "code",
   "execution_count": 22,
   "id": "902ea472",
   "metadata": {},
   "outputs": [],
   "source": [
    "#to select first column of the data which contains words\n",
    "word=vocabulary.iloc[:,0]"
   ]
  },
  {
   "cell_type": "code",
   "execution_count": 23,
   "id": "0ebadc29",
   "metadata": {},
   "outputs": [],
   "source": [
    "#to select the second column that contains meanings from the data\n",
    "meaning=vocabulary.iloc[:,1]"
   ]
  },
  {
   "cell_type": "code",
   "execution_count": 24,
   "id": "9aad9367",
   "metadata": {},
   "outputs": [
    {
     "name": "stdout",
     "output_type": "stream",
     "text": [
      "0         Abnegation \n",
      "1          Aggrandize\n",
      "2           Alacrity \n",
      "3      Anachronistic \n",
      "4         Archetypal \n",
      "            ...      \n",
      "145            Death \n",
      "146         Decision \n",
      "147           Detail \n",
      "148      Development \n",
      "149        Direction \n",
      "Name: Word , Length: 150, dtype: object\n"
     ]
    }
   ],
   "source": [
    "print(word)"
   ]
  },
  {
   "cell_type": "code",
   "execution_count": 25,
   "id": "5d8e66ee",
   "metadata": {},
   "outputs": [
    {
     "name": "stdout",
     "output_type": "stream",
     "text": [
      "0                        Renouncing a belief or doctrine\n",
      "1                         enhance power wealth or status\n",
      "2                                              eagerness\n",
      "3                              misplaced chronologically\n",
      "4                       quintessential of a certain kind\n",
      "                             ...                        \n",
      "145                                     the end of life.\n",
      "146     a choice that you make about something after ...\n",
      "147     a single piece of information or fact about s...\n",
      "148     the process in which someone or something gro...\n",
      "149     the position towards which someone or somethi...\n",
      "Name: Meaning, Length: 150, dtype: object\n"
     ]
    }
   ],
   "source": [
    "print(meaning)"
   ]
  },
  {
   "cell_type": "code",
   "execution_count": 26,
   "id": "f5e8ec1d",
   "metadata": {},
   "outputs": [],
   "source": [
    "#plyer was imported for notification \n",
    "#time was imported for the interval between notifications\n",
    "from plyer import notification\n",
    "import time"
   ]
  },
  {
   "cell_type": "code",
   "execution_count": null,
   "id": "cdda6a23",
   "metadata": {},
   "outputs": [],
   "source": [
    "#the loop runs for 50 iterations so that we can get through all the words\n",
    "for i in range(150):\n",
    "    notification.notify(title=word[i], message=meaning[i], app_name=\"Learn new words!!!\", timeout=10, ticker=\"Word of the Hour\")\n",
    "    #since it takes time in seconds we put 3600 ie 1hour here so a new word will pop up after every hour\n",
    "    time.sleep(3600)\n",
    "    "
   ]
  },
  {
   "cell_type": "code",
   "execution_count": 27,
   "id": "b913b545",
   "metadata": {},
   "outputs": [
    {
     "ename": "KeyboardInterrupt",
     "evalue": "",
     "output_type": "error",
     "traceback": [
      "\u001b[1;31m---------------------------------------------------------------------------\u001b[0m",
      "\u001b[1;31mKeyboardInterrupt\u001b[0m                         Traceback (most recent call last)",
      "\u001b[1;32m~\\AppData\\Local\\Temp/ipykernel_8480/1758833008.py\u001b[0m in \u001b[0;36m<module>\u001b[1;34m\u001b[0m\n\u001b[0;32m      3\u001b[0m \u001b[1;32mfor\u001b[0m \u001b[0mi\u001b[0m \u001b[1;32min\u001b[0m \u001b[0mrange\u001b[0m\u001b[1;33m(\u001b[0m\u001b[1;36m150\u001b[0m\u001b[1;33m)\u001b[0m\u001b[1;33m:\u001b[0m\u001b[1;33m\u001b[0m\u001b[1;33m\u001b[0m\u001b[0m\n\u001b[0;32m      4\u001b[0m     \u001b[0mnotification\u001b[0m\u001b[1;33m.\u001b[0m\u001b[0mnotify\u001b[0m\u001b[1;33m(\u001b[0m\u001b[0mtitle\u001b[0m\u001b[1;33m=\u001b[0m\u001b[0mword\u001b[0m\u001b[1;33m[\u001b[0m\u001b[0mi\u001b[0m\u001b[1;33m]\u001b[0m\u001b[1;33m,\u001b[0m \u001b[0mmessage\u001b[0m\u001b[1;33m=\u001b[0m\u001b[0mmeaning\u001b[0m\u001b[1;33m[\u001b[0m\u001b[0mi\u001b[0m\u001b[1;33m]\u001b[0m\u001b[1;33m,\u001b[0m \u001b[0mapp_name\u001b[0m\u001b[1;33m=\u001b[0m\u001b[1;34m\"Learn new words!!!\"\u001b[0m\u001b[1;33m,\u001b[0m \u001b[0mtimeout\u001b[0m\u001b[1;33m=\u001b[0m\u001b[1;36m5\u001b[0m\u001b[1;33m)\u001b[0m\u001b[1;33m\u001b[0m\u001b[1;33m\u001b[0m\u001b[0m\n\u001b[1;32m----> 5\u001b[1;33m     \u001b[0mtime\u001b[0m\u001b[1;33m.\u001b[0m\u001b[0msleep\u001b[0m\u001b[1;33m(\u001b[0m\u001b[1;36m10\u001b[0m\u001b[1;33m)\u001b[0m\u001b[1;33m\u001b[0m\u001b[1;33m\u001b[0m\u001b[0m\n\u001b[0m",
      "\u001b[1;31mKeyboardInterrupt\u001b[0m: "
     ]
    }
   ],
   "source": [
    "#this code is to see that the program is working just fine\n",
    "#because it would be a hectic task to wait for an hour to check if the code is working or not\n",
    "for i in range(150):\n",
    "    notification.notify(title=word[i], message=meaning[i], app_name=\"Learn new words!!!\", timeout=5)\n",
    "    time.sleep(10)"
   ]
  }
 ],
 "metadata": {
  "kernelspec": {
   "display_name": "Python 3 (ipykernel)",
   "language": "python",
   "name": "python3"
  },
  "language_info": {
   "codemirror_mode": {
    "name": "ipython",
    "version": 3
   },
   "file_extension": ".py",
   "mimetype": "text/x-python",
   "name": "python",
   "nbconvert_exporter": "python",
   "pygments_lexer": "ipython3",
   "version": "3.9.7"
  }
 },
 "nbformat": 4,
 "nbformat_minor": 5
}
